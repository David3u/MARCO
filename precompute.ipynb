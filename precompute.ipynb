{
 "cells": [
  {
   "cell_type": "code",
   "execution_count": 8,
   "id": "61e268e8-44cd-422f-9c54-7c6c4e9e4a7b",
   "metadata": {},
   "outputs": [],
   "source": [
    "import os\n",
    "import json\n",
    "from matplotlib import pyplot as plt\n",
    "import torch\n",
    "from task import Task, Blackboard\n",
    "from tqdm import tqdm\n",
    "import trainer\n",
    "import importlib"
   ]
  },
  {
   "cell_type": "code",
   "execution_count": null,
   "id": "9c05196b-fe9a-4696-937e-d74676c0b782",
   "metadata": {
    "scrolled": true
   },
   "outputs": [],
   "source": [
    "trainer.precompute_tasks(\n",
    "    input_dir=\"data/evaluation\", \n",
    "    output_dir=\"precomputed_tasks/evaluation_400\",\n",
    "    augmentation_types=trainer.augmentation_types\n",
    ")"
   ]
  },
  {
   "cell_type": "code",
   "execution_count": null,
   "id": "a64e0cef-3ab1-4460-92da-09eca7343879",
   "metadata": {},
   "outputs": [],
   "source": [
    "task = trainer.load_precomputed_task(\"precomputed_tasks/evaluation_400/e57337a4_rotate_270.pt\")\n",
    "print(task.task_id, len(task.train_graphs), len(task.test_graphs))"
   ]
  },
  {
   "cell_type": "code",
   "execution_count": null,
   "id": "fce4c8a5-f179-4c0c-abc2-808c6887c076",
   "metadata": {},
   "outputs": [],
   "source": []
  }
 ],
 "metadata": {
  "kernelspec": {
   "display_name": "base",
   "language": "python",
   "name": "python3"
  },
  "language_info": {
   "codemirror_mode": {
    "name": "ipython",
    "version": 3
   },
   "file_extension": ".py",
   "mimetype": "text/x-python",
   "name": "python",
   "nbconvert_exporter": "python",
   "pygments_lexer": "ipython3",
   "version": "3.12.9"
  }
 },
 "nbformat": 4,
 "nbformat_minor": 5
}
